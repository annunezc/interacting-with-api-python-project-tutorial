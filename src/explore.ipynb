{
    "cells": [
        {
            "cell_type": "markdown",
            "metadata": {},
            "source": [
                "# Explore here"
            ]
        },
        {
            "cell_type": "code",
            "execution_count": 4,
            "metadata": {},
            "outputs": [],
            "source": [
                "import os\n",
                "import pandas as pd\n",
                "from dotenv import load_dotenv\n",
                "\n",
                "# load the .env file variables\n",
                "load_dotenv()\n",
                "\n",
                "client_id = os.getenv('CLIENT_ID')\n",
                "client_secret = os.getenv('CLIENT_SECRET')"
            ]
        },
        {
            "cell_type": "code",
            "execution_count": 5,
            "metadata": {},
            "outputs": [],
            "source": [
                "import spotipy\n",
                "from spotipy.oauth2 import SpotifyClientCredentials\n",
                "\n",
                "con = spotipy.Spotify(auth_manager=SpotifyClientCredentials(client_id=client_id, client_secret=client_secret))\n"
            ]
        },
        {
            "cell_type": "code",
            "execution_count": 7,
            "metadata": {},
            "outputs": [
                {
                    "name": "stdout",
                    "output_type": "stream",
                    "text": [
                        "{'tracks': [{'album': {'album_type': 'album', 'artists': [{'external_urls': {'spotify': 'https://open.spotify.com/artist/4VMYDCV2IEDYJArk749S6m'}, 'href': 'https://api.spotify.com/v1/artists/4VMYDCV2IEDYJArk749S6m', 'id': '4VMYDCV2IEDYJArk749S6m', 'name': 'Daddy Yankee', 'type': 'artist', 'uri': 'spotify:artist:4VMYDCV2IEDYJArk749S6m'}], 'available_markets': ['AR', 'AU', 'AT', 'BE', 'BO', 'BR', 'BG', 'CA', 'CL', 'CO', 'CR', 'CY', 'CZ', 'DK', 'DO', 'DE', 'EC', 'EE', 'SV', 'FI', 'FR', 'GR', 'GT', 'HN', 'HK', 'HU', 'IS', 'IE', 'IT', 'LV', 'LT', 'LU', 'MY', 'MT', 'MX', 'NL', 'NZ', 'NI', 'NO', 'PA', 'PY', 'PE', 'PH', 'PL', 'PT', 'SG', 'SK', 'ES', 'SE', 'CH', 'TW', 'TR', 'UY', 'US', 'GB', 'AD', 'LI', 'MC', 'ID', 'JP', 'TH', 'VN', 'RO', 'IL', 'ZA', 'SA', 'AE', 'BH', 'QA', 'OM', 'KW', 'EG', 'MA', 'DZ', 'TN', 'LB', 'JO', 'PS', 'IN', 'KZ', 'MD', 'UA', 'AL', 'BA', 'HR', 'ME', 'MK', 'RS', 'SI', 'KR', 'BD', 'PK', 'LK', 'GH', 'KE', 'NG', 'TZ', 'UG', 'AG', 'AM', 'BS', 'BB', 'BZ', 'BT', 'BW', 'BF', 'CV', 'CW', 'DM', 'FJ', 'GM', 'GE', 'GD', 'GW', 'GY', 'HT', 'JM', 'KI', 'LS', 'LR', 'MW', 'MV', 'ML', 'MH', 'FM', 'NA', 'NR', 'NE', 'PW', 'PG', 'WS', 'SM', 'ST', 'SN', 'SC', 'SL', 'SB', 'KN', 'LC', 'VC', 'SR', 'TL', 'TO', 'TT', 'TV', 'VU', 'AZ', 'BN', 'BI', 'KH', 'CM', 'TD', 'KM', 'GQ', 'SZ', 'GA', 'GN', 'KG', 'LA', 'MO', 'MR', 'MN', 'NP', 'RW', 'TG', 'UZ', 'ZW', 'BJ', 'MG', 'MU', 'MZ', 'AO', 'CI', 'DJ', 'ZM', 'CD', 'CG', 'IQ', 'LY', 'TJ', 'VE', 'ET', 'XK'], 'external_urls': {'spotify': 'https://open.spotify.com/album/7BmWnXvx1CD6vtxtBd0czc'}, 'href': 'https://api.spotify.com/v1/albums/7BmWnXvx1CD6vtxtBd0czc', 'id': '7BmWnXvx1CD6vtxtBd0czc', 'images': [{'url': 'https://i.scdn.co/image/ab67616d0000b27311b9999b620ef9bc0e957623', 'height': 640, 'width': 640}, {'url': 'https://i.scdn.co/image/ab67616d00001e0211b9999b620ef9bc0e957623', 'height': 300, 'width': 300}, {'url': 'https://i.scdn.co/image/ab67616d0000485111b9999b620ef9bc0e957623', 'height': 64, 'width': 64}], 'is_playable': True, 'name': 'Barrio Fino (Bonus Track Version)', 'release_date': '2004-07-13', 'release_date_precision': 'day', 'total_tracks': 23, 'type': 'album', 'uri': 'spotify:album:7BmWnXvx1CD6vtxtBd0czc'}, 'artists': [{'external_urls': {'spotify': 'https://open.spotify.com/artist/4VMYDCV2IEDYJArk749S6m'}, 'href': 'https://api.spotify.com/v1/artists/4VMYDCV2IEDYJArk749S6m', 'id': '4VMYDCV2IEDYJArk749S6m', 'name': 'Daddy Yankee', 'type': 'artist', 'uri': 'spotify:artist:4VMYDCV2IEDYJArk749S6m'}], 'available_markets': ['AR', 'AU', 'AT', 'BE', 'BO', 'BR', 'BG', 'CA', 'CL', 'CO', 'CR', 'CY', 'CZ', 'DK', 'DO', 'DE', 'EC', 'EE', 'SV', 'FI', 'FR', 'GR', 'GT', 'HN', 'HK', 'HU', 'IS', 'IE', 'IT', 'LV', 'LT', 'LU', 'MY', 'MT', 'MX', 'NL', 'NZ', 'NI', 'NO', 'PA', 'PY', 'PE', 'PH', 'PL', 'PT', 'SG', 'SK', 'ES', 'SE', 'CH', 'TW', 'TR', 'UY', 'US', 'GB', 'AD', 'LI', 'MC', 'ID', 'JP', 'TH', 'VN', 'RO', 'IL', 'ZA', 'SA', 'AE', 'BH', 'QA', 'OM', 'KW', 'EG', 'MA', 'DZ', 'TN', 'LB', 'JO', 'PS', 'IN', 'KZ', 'MD', 'UA', 'AL', 'BA', 'HR', 'ME', 'MK', 'RS', 'SI', 'KR', 'BD', 'PK', 'LK', 'GH', 'KE', 'NG', 'TZ', 'UG', 'AG', 'AM', 'BS', 'BB', 'BZ', 'BT', 'BW', 'BF', 'CV', 'CW', 'DM', 'FJ', 'GM', 'GE', 'GD', 'GW', 'GY', 'HT', 'JM', 'KI', 'LS', 'LR', 'MW', 'MV', 'ML', 'MH', 'FM', 'NA', 'NR', 'NE', 'PW', 'PG', 'WS', 'SM', 'ST', 'SN', 'SC', 'SL', 'SB', 'KN', 'LC', 'VC', 'SR', 'TL', 'TO', 'TT', 'TV', 'VU', 'AZ', 'BN', 'BI', 'KH', 'CM', 'TD', 'KM', 'GQ', 'SZ', 'GA', 'GN', 'KG', 'LA', 'MO', 'MR', 'MN', 'NP', 'RW', 'TG', 'UZ', 'ZW', 'BJ', 'MG', 'MU', 'MZ', 'AO', 'CI', 'DJ', 'ZM', 'CD', 'CG', 'IQ', 'LY', 'TJ', 'VE', 'ET', 'XK'], 'disc_number': 1, 'duration_ms': 192600, 'explicit': False, 'external_ids': {'isrc': 'QM6N21759342'}, 'external_urls': {'spotify': 'https://open.spotify.com/track/5YoITs1m0q8UOQ4AW7N5ga'}, 'href': 'https://api.spotify.com/v1/tracks/5YoITs1m0q8UOQ4AW7N5ga', 'id': '5YoITs1m0q8UOQ4AW7N5ga', 'is_local': False, 'is_playable': True, 'name': 'Gasolina', 'popularity': 63, 'preview_url': None, 'track_number': 5, 'type': 'track', 'uri': 'spotify:track:5YoITs1m0q8UOQ4AW7N5ga'}, {'album': {'album_type': 'album', 'artists': [{'external_urls': {'spotify': 'https://open.spotify.com/artist/4V8Sr092TqfHkfAA5fXXqG'}, 'href': 'https://api.spotify.com/v1/artists/4V8Sr092TqfHkfAA5fXXqG', 'id': '4V8Sr092TqfHkfAA5fXXqG', 'name': 'Luis Fonsi', 'type': 'artist', 'uri': 'spotify:artist:4V8Sr092TqfHkfAA5fXXqG'}], 'available_markets': ['AR', 'AU', 'AT', 'BE', 'BO', 'BR', 'BG', 'CA', 'CL', 'CO', 'CR', 'CY', 'CZ', 'DK', 'DO', 'DE', 'EC', 'EE', 'SV', 'FI', 'FR', 'GR', 'GT', 'HN', 'HK', 'HU', 'IS', 'IE', 'IT', 'LV', 'LT', 'LU', 'MY', 'MT', 'MX', 'NL', 'NZ', 'NI', 'NO', 'PA', 'PY', 'PE', 'PH', 'PL', 'PT', 'SG', 'SK', 'ES', 'SE', 'CH', 'TW', 'TR', 'UY', 'US', 'GB', 'AD', 'LI', 'MC', 'ID', 'JP', 'TH', 'VN', 'RO', 'IL', 'ZA', 'SA', 'AE', 'BH', 'QA', 'OM', 'KW', 'EG', 'MA', 'DZ', 'TN', 'LB', 'JO', 'PS', 'IN', 'BY', 'KZ', 'MD', 'UA', 'AL', 'BA', 'HR', 'ME', 'MK', 'RS', 'SI', 'KR', 'BD', 'PK', 'LK', 'GH', 'KE', 'NG', 'TZ', 'UG', 'AG', 'AM', 'BS', 'BB', 'BZ', 'BT', 'BW', 'BF', 'CV', 'CW', 'DM', 'FJ', 'GM', 'GE', 'GD', 'GW', 'GY', 'HT', 'JM', 'KI', 'LS', 'LR', 'MW', 'MV', 'ML', 'MH', 'FM', 'NA', 'NR', 'NE', 'PW', 'PG', 'WS', 'SM', 'ST', 'SN', 'SC', 'SL', 'SB', 'KN', 'LC', 'VC', 'SR', 'TL', 'TO', 'TT', 'TV', 'VU', 'AZ', 'BN', 'BI', 'KH', 'CM', 'TD', 'KM', 'GQ', 'SZ', 'GA', 'GN', 'KG', 'LA', 'MO', 'MR', 'MN', 'NP', 'RW', 'TG', 'UZ', 'ZW', 'BJ', 'MG', 'MU', 'MZ', 'AO', 'CI', 'DJ', 'ZM', 'CD', 'CG', 'IQ', 'LY', 'TJ', 'VE', 'ET', 'XK'], 'external_urls': {'spotify': 'https://open.spotify.com/album/5C0YLr4OoRGFDaqdMQmkeH'}, 'href': 'https://api.spotify.com/v1/albums/5C0YLr4OoRGFDaqdMQmkeH', 'id': '5C0YLr4OoRGFDaqdMQmkeH', 'images': [{'url': 'https://i.scdn.co/image/ab67616d0000b273ef0d4234e1a645740f77d59c', 'height': 640, 'width': 640}, {'url': 'https://i.scdn.co/image/ab67616d00001e02ef0d4234e1a645740f77d59c', 'height': 300, 'width': 300}, {'url': 'https://i.scdn.co/image/ab67616d00004851ef0d4234e1a645740f77d59c', 'height': 64, 'width': 64}], 'is_playable': True, 'name': 'VIDA', 'release_date': '2019-02-01', 'release_date_precision': 'day', 'total_tracks': 15, 'type': 'album', 'uri': 'spotify:album:5C0YLr4OoRGFDaqdMQmkeH'}, 'artists': [{'external_urls': {'spotify': 'https://open.spotify.com/artist/4V8Sr092TqfHkfAA5fXXqG'}, 'href': 'https://api.spotify.com/v1/artists/4V8Sr092TqfHkfAA5fXXqG', 'id': '4V8Sr092TqfHkfAA5fXXqG', 'name': 'Luis Fonsi', 'type': 'artist', 'uri': 'spotify:artist:4V8Sr092TqfHkfAA5fXXqG'}, {'external_urls': {'spotify': 'https://open.spotify.com/artist/4VMYDCV2IEDYJArk749S6m'}, 'href': 'https://api.spotify.com/v1/artists/4VMYDCV2IEDYJArk749S6m', 'id': '4VMYDCV2IEDYJArk749S6m', 'name': 'Daddy Yankee', 'type': 'artist', 'uri': 'spotify:artist:4VMYDCV2IEDYJArk749S6m'}], 'available_markets': ['AR', 'AU', 'AT', 'BE', 'BO', 'BR', 'BG', 'CA', 'CL', 'CO', 'CR', 'CY', 'CZ', 'DK', 'DO', 'DE', 'EC', 'EE', 'SV', 'FI', 'FR', 'GR', 'GT', 'HN', 'HK', 'HU', 'IS', 'IE', 'IT', 'LV', 'LT', 'LU', 'MY', 'MT', 'MX', 'NL', 'NZ', 'NI', 'NO', 'PA', 'PY', 'PE', 'PH', 'PL', 'PT', 'SG', 'SK', 'ES', 'SE', 'CH', 'TW', 'TR', 'UY', 'US', 'GB', 'AD', 'LI', 'MC', 'ID', 'JP', 'TH', 'VN', 'RO', 'IL', 'ZA', 'SA', 'AE', 'BH', 'QA', 'OM', 'KW', 'EG', 'MA', 'DZ', 'TN', 'LB', 'JO', 'PS', 'IN', 'BY', 'KZ', 'MD', 'UA', 'AL', 'BA', 'HR', 'ME', 'MK', 'RS', 'SI', 'KR', 'BD', 'PK', 'LK', 'GH', 'KE', 'NG', 'TZ', 'UG', 'AG', 'AM', 'BS', 'BB', 'BZ', 'BT', 'BW', 'BF', 'CV', 'CW', 'DM', 'FJ', 'GM', 'GE', 'GD', 'GW', 'GY', 'HT', 'JM', 'KI', 'LS', 'LR', 'MW', 'MV', 'ML', 'MH', 'FM', 'NA', 'NR', 'NE', 'PW', 'PG', 'WS', 'SM', 'ST', 'SN', 'SC', 'SL', 'SB', 'KN', 'LC', 'VC', 'SR', 'TL', 'TO', 'TT', 'TV', 'VU', 'AZ', 'BN', 'BI', 'KH', 'CM', 'TD', 'KM', 'GQ', 'SZ', 'GA', 'GN', 'KG', 'LA', 'MO', 'MR', 'MN', 'NP', 'RW', 'TG', 'UZ', 'ZW', 'BJ', 'MG', 'MU', 'MZ', 'AO', 'CI', 'DJ', 'ZM', 'CD', 'CG', 'IQ', 'LY', 'TJ', 'VE', 'ET', 'XK'], 'disc_number': 1, 'duration_ms': 229360, 'explicit': False, 'external_ids': {'isrc': 'USUM71607007'}, 'external_urls': {'spotify': 'https://open.spotify.com/track/6habFhsOp2NvshLv26DqMb'}, 'href': 'https://api.spotify.com/v1/tracks/6habFhsOp2NvshLv26DqMb', 'id': '6habFhsOp2NvshLv26DqMb', 'is_local': False, 'is_playable': True, 'name': 'Despacito', 'popularity': 78, 'preview_url': None, 'track_number': 9, 'type': 'track', 'uri': 'spotify:track:6habFhsOp2NvshLv26DqMb'}, {'album': {'album_type': 'album', 'artists': [{'external_urls': {'spotify': 'https://open.spotify.com/artist/4VMYDCV2IEDYJArk749S6m'}, 'href': 'https://api.spotify.com/v1/artists/4VMYDCV2IEDYJArk749S6m', 'id': '4VMYDCV2IEDYJArk749S6m', 'name': 'Daddy Yankee', 'type': 'artist', 'uri': 'spotify:artist:4VMYDCV2IEDYJArk749S6m'}], 'available_markets': ['AR', 'AU', 'AT', 'BE', 'BO', 'BR', 'BG', 'CA', 'CL', 'CO', 'CR', 'CY', 'CZ', 'DK', 'DO', 'DE', 'EC', 'EE', 'SV', 'FI', 'FR', 'GR', 'GT', 'HN', 'HK', 'HU', 'IS', 'IE', 'IT', 'LV', 'LT', 'LU', 'MY', 'MT', 'MX', 'NL', 'NZ', 'NI', 'NO', 'PA', 'PY', 'PE', 'PH', 'PL', 'PT', 'SG', 'SK', 'ES', 'SE', 'CH', 'TW', 'TR', 'UY', 'US', 'GB', 'AD', 'LI', 'MC', 'ID', 'JP', 'TH', 'VN', 'RO', 'IL', 'ZA', 'SA', 'AE', 'BH', 'QA', 'OM', 'KW', 'EG', 'MA', 'DZ', 'TN', 'LB', 'JO', 'PS', 'IN', 'KZ', 'MD', 'UA', 'AL', 'BA', 'HR', 'ME', 'MK', 'RS', 'SI', 'KR', 'BD', 'PK', 'LK', 'GH', 'KE', 'NG', 'TZ', 'UG', 'AG', 'AM', 'BS', 'BB', 'BZ', 'BT', 'BW', 'BF', 'CV', 'CW', 'DM', 'FJ', 'GM', 'GE', 'GD', 'GW', 'GY', 'HT', 'JM', 'KI', 'LS', 'LR', 'MW', 'MV', 'ML', 'MH', 'FM', 'NA', 'NR', 'NE', 'PW', 'PG', 'WS', 'SM', 'ST', 'SN', 'SC', 'SL', 'SB', 'KN', 'LC', 'VC', 'SR', 'TL', 'TO', 'TT', 'TV', 'VU', 'AZ', 'BN', 'BI', 'KH', 'CM', 'TD', 'KM', 'GQ', 'SZ', 'GA', 'GN', 'KG', 'LA', 'MO', 'MR', 'MN', 'NP', 'RW', 'TG', 'UZ', 'ZW', 'BJ', 'MG', 'MU', 'MZ', 'AO', 'CI', 'DJ', 'ZM', 'CD', 'CG', 'IQ', 'LY', 'TJ', 'VE', 'ET', 'XK'], 'external_urls': {'spotify': 'https://open.spotify.com/album/7BmWnXvx1CD6vtxtBd0czc'}, 'href': 'https://api.spotify.com/v1/albums/7BmWnXvx1CD6vtxtBd0czc', 'id': '7BmWnXvx1CD6vtxtBd0czc', 'images': [{'url': 'https://i.scdn.co/image/ab67616d0000b27311b9999b620ef9bc0e957623', 'height': 640, 'width': 640}, {'url': 'https://i.scdn.co/image/ab67616d00001e0211b9999b620ef9bc0e957623', 'height': 300, 'width': 300}, {'url': 'https://i.scdn.co/image/ab67616d0000485111b9999b620ef9bc0e957623', 'height': 64, 'width': 64}], 'is_playable': True, 'name': 'Barrio Fino (Bonus Track Version)', 'release_date': '2004-07-13', 'release_date_precision': 'day', 'total_tracks': 23, 'type': 'album', 'uri': 'spotify:album:7BmWnXvx1CD6vtxtBd0czc'}, 'artists': [{'external_urls': {'spotify': 'https://open.spotify.com/artist/4VMYDCV2IEDYJArk749S6m'}, 'href': 'https://api.spotify.com/v1/artists/4VMYDCV2IEDYJArk749S6m', 'id': '4VMYDCV2IEDYJArk749S6m', 'name': 'Daddy Yankee', 'type': 'artist', 'uri': 'spotify:artist:4VMYDCV2IEDYJArk749S6m'}], 'available_markets': ['AR', 'AU', 'AT', 'BE', 'BO', 'BR', 'BG', 'CA', 'CL', 'CO', 'CR', 'CY', 'CZ', 'DK', 'DO', 'DE', 'EC', 'EE', 'SV', 'FI', 'FR', 'GR', 'GT', 'HN', 'HK', 'HU', 'IS', 'IE', 'IT', 'LV', 'LT', 'LU', 'MY', 'MT', 'MX', 'NL', 'NZ', 'NI', 'NO', 'PA', 'PY', 'PE', 'PH', 'PL', 'PT', 'SG', 'SK', 'ES', 'SE', 'CH', 'TW', 'TR', 'UY', 'US', 'GB', 'AD', 'LI', 'MC', 'ID', 'JP', 'TH', 'VN', 'RO', 'IL', 'ZA', 'SA', 'AE', 'BH', 'QA', 'OM', 'KW', 'EG', 'MA', 'DZ', 'TN', 'LB', 'JO', 'PS', 'IN', 'KZ', 'MD', 'UA', 'AL', 'BA', 'HR', 'ME', 'MK', 'RS', 'SI', 'KR', 'BD', 'PK', 'LK', 'GH', 'KE', 'NG', 'TZ', 'UG', 'AG', 'AM', 'BS', 'BB', 'BZ', 'BT', 'BW', 'BF', 'CV', 'CW', 'DM', 'FJ', 'GM', 'GE', 'GD', 'GW', 'GY', 'HT', 'JM', 'KI', 'LS', 'LR', 'MW', 'MV', 'ML', 'MH', 'FM', 'NA', 'NR', 'NE', 'PW', 'PG', 'WS', 'SM', 'ST', 'SN', 'SC', 'SL', 'SB', 'KN', 'LC', 'VC', 'SR', 'TL', 'TO', 'TT', 'TV', 'VU', 'AZ', 'BN', 'BI', 'KH', 'CM', 'TD', 'KM', 'GQ', 'SZ', 'GA', 'GN', 'KG', 'LA', 'MO', 'MR', 'MN', 'NP', 'RW', 'TG', 'UZ', 'ZW', 'BJ', 'MG', 'MU', 'MZ', 'AO', 'CI', 'DJ', 'ZM', 'CD', 'CG', 'IQ', 'LY', 'TJ', 'VE', 'ET', 'XK'], 'disc_number': 1, 'duration_ms': 210933, 'explicit': False, 'external_ids': {'isrc': 'QM6N21759345'}, 'external_urls': {'spotify': 'https://open.spotify.com/track/40a82F3K2UTbeoLlXXXZBd'}, 'href': 'https://api.spotify.com/v1/tracks/40a82F3K2UTbeoLlXXXZBd', 'id': '40a82F3K2UTbeoLlXXXZBd', 'is_local': False, 'is_playable': True, 'name': 'Lo Que Pasó, Pasó', 'popularity': 62, 'preview_url': None, 'track_number': 8, 'type': 'track', 'uri': 'spotify:track:40a82F3K2UTbeoLlXXXZBd'}, {'album': {'album_type': 'album', 'artists': [{'external_urls': {'spotify': 'https://open.spotify.com/artist/4q3ewBCX7sLwd24euuV69X'}, 'href': 'https://api.spotify.com/v1/artists/4q3ewBCX7sLwd24euuV69X', 'id': '4q3ewBCX7sLwd24euuV69X', 'name': 'Bad Bunny', 'type': 'artist', 'uri': 'spotify:artist:4q3ewBCX7sLwd24euuV69X'}], 'available_markets': ['AR', 'AU', 'AT', 'BE', 'BO', 'BR', 'BG', 'CA', 'CL', 'CO', 'CR', 'CY', 'CZ', 'DK', 'DO', 'DE', 'EC', 'EE', 'SV', 'FI', 'FR', 'GR', 'GT', 'HN', 'HK', 'HU', 'IS', 'IE', 'IT', 'LV', 'LT', 'LU', 'MY', 'MT', 'MX', 'NL', 'NZ', 'NI', 'NO', 'PA', 'PY', 'PE', 'PH', 'PL', 'PT', 'SG', 'SK', 'ES', 'SE', 'CH', 'TW', 'TR', 'UY', 'US', 'GB', 'AD', 'LI', 'MC', 'ID', 'JP', 'TH', 'VN', 'RO', 'IL', 'ZA', 'SA', 'AE', 'BH', 'QA', 'OM', 'KW', 'EG', 'MA', 'DZ', 'TN', 'LB', 'JO', 'PS', 'IN', 'BY', 'KZ', 'MD', 'UA', 'AL', 'BA', 'HR', 'ME', 'MK', 'RS', 'SI', 'KR', 'BD', 'PK', 'LK', 'GH', 'KE', 'NG', 'TZ', 'UG', 'AG', 'AM', 'BS', 'BB', 'BZ', 'BT', 'BW', 'BF', 'CV', 'CW', 'DM', 'FJ', 'GM', 'GE', 'GD', 'GW', 'GY', 'HT', 'JM', 'KI', 'LS', 'LR', 'MW', 'MV', 'ML', 'MH', 'FM', 'NA', 'NR', 'NE', 'PW', 'PG', 'PR', 'WS', 'SM', 'ST', 'SN', 'SC', 'SL', 'SB', 'KN', 'LC', 'VC', 'SR', 'TL', 'TO', 'TT', 'TV', 'VU', 'AZ', 'BN', 'BI', 'KH', 'CM', 'TD', 'KM', 'GQ', 'SZ', 'GA', 'GN', 'KG', 'LA', 'MO', 'MR', 'MN', 'NP', 'RW', 'TG', 'UZ', 'ZW', 'BJ', 'MG', 'MU', 'MZ', 'AO', 'CI', 'DJ', 'ZM', 'CD', 'CG', 'IQ', 'LY', 'TJ', 'VE', 'ET', 'XK'], 'external_urls': {'spotify': 'https://open.spotify.com/album/5lJqux7orBlA1QzyiBGti1'}, 'href': 'https://api.spotify.com/v1/albums/5lJqux7orBlA1QzyiBGti1', 'id': '5lJqux7orBlA1QzyiBGti1', 'images': [{'url': 'https://i.scdn.co/image/ab67616d0000b273548f7ec52da7313de0c5e4a0', 'height': 640, 'width': 640}, {'url': 'https://i.scdn.co/image/ab67616d00001e02548f7ec52da7313de0c5e4a0', 'height': 300, 'width': 300}, {'url': 'https://i.scdn.co/image/ab67616d00004851548f7ec52da7313de0c5e4a0', 'height': 64, 'width': 64}], 'is_playable': True, 'name': 'YHLQMDLG', 'release_date': '2020-02-29', 'release_date_precision': 'day', 'total_tracks': 20, 'type': 'album', 'uri': 'spotify:album:5lJqux7orBlA1QzyiBGti1'}, 'artists': [{'external_urls': {'spotify': 'https://open.spotify.com/artist/4q3ewBCX7sLwd24euuV69X'}, 'href': 'https://api.spotify.com/v1/artists/4q3ewBCX7sLwd24euuV69X', 'id': '4q3ewBCX7sLwd24euuV69X', 'name': 'Bad Bunny', 'type': 'artist', 'uri': 'spotify:artist:4q3ewBCX7sLwd24euuV69X'}, {'external_urls': {'spotify': 'https://open.spotify.com/artist/4VMYDCV2IEDYJArk749S6m'}, 'href': 'https://api.spotify.com/v1/artists/4VMYDCV2IEDYJArk749S6m', 'id': '4VMYDCV2IEDYJArk749S6m', 'name': 'Daddy Yankee', 'type': 'artist', 'uri': 'spotify:artist:4VMYDCV2IEDYJArk749S6m'}], 'available_markets': ['AR', 'AU', 'AT', 'BE', 'BO', 'BR', 'BG', 'CA', 'CL', 'CO', 'CR', 'CY', 'CZ', 'DK', 'DO', 'DE', 'EC', 'EE', 'SV', 'FI', 'FR', 'GR', 'GT', 'HN', 'HK', 'HU', 'IS', 'IE', 'IT', 'LV', 'LT', 'LU', 'MY', 'MT', 'MX', 'NL', 'NZ', 'NI', 'NO', 'PA', 'PY', 'PE', 'PH', 'PL', 'PT', 'SG', 'SK', 'ES', 'SE', 'CH', 'TW', 'TR', 'UY', 'US', 'GB', 'AD', 'LI', 'MC', 'ID', 'JP', 'TH', 'VN', 'RO', 'IL', 'ZA', 'SA', 'AE', 'BH', 'QA', 'OM', 'KW', 'EG', 'MA', 'DZ', 'TN', 'LB', 'JO', 'PS', 'IN', 'BY', 'KZ', 'MD', 'UA', 'AL', 'BA', 'HR', 'ME', 'MK', 'RS', 'SI', 'KR', 'BD', 'PK', 'LK', 'GH', 'KE', 'NG', 'TZ', 'UG', 'AG', 'AM', 'BS', 'BB', 'BZ', 'BT', 'BW', 'BF', 'CV', 'CW', 'DM', 'FJ', 'GM', 'GE', 'GD', 'GW', 'GY', 'HT', 'JM', 'KI', 'LS', 'LR', 'MW', 'MV', 'ML', 'MH', 'FM', 'NA', 'NR', 'NE', 'PW', 'PG', 'PR', 'WS', 'SM', 'ST', 'SN', 'SC', 'SL', 'SB', 'KN', 'LC', 'VC', 'SR', 'TL', 'TO', 'TT', 'TV', 'VU', 'AZ', 'BN', 'BI', 'KH', 'CM', 'TD', 'KM', 'GQ', 'SZ', 'GA', 'GN', 'KG', 'LA', 'MO', 'MR', 'MN', 'NP', 'RW', 'TG', 'UZ', 'ZW', 'BJ', 'MG', 'MU', 'MZ', 'AO', 'CI', 'DJ', 'ZM', 'CD', 'CG', 'IQ', 'LY', 'TJ', 'VE', 'ET', 'XK'], 'disc_number': 1, 'duration_ms': 206420, 'explicit': True, 'external_ids': {'isrc': 'QM4TX2030933'}, 'external_urls': {'spotify': 'https://open.spotify.com/track/69vlMrzHwATKzupwNcUPyK'}, 'href': 'https://api.spotify.com/v1/tracks/69vlMrzHwATKzupwNcUPyK', 'id': '69vlMrzHwATKzupwNcUPyK', 'is_local': False, 'is_playable': True, 'name': 'La Santa', 'popularity': 78, 'preview_url': None, 'track_number': 4, 'type': 'track', 'uri': 'spotify:track:69vlMrzHwATKzupwNcUPyK'}, {'album': {'album_type': 'album', 'artists': [{'external_urls': {'spotify': 'https://open.spotify.com/artist/4VMYDCV2IEDYJArk749S6m'}, 'href': 'https://api.spotify.com/v1/artists/4VMYDCV2IEDYJArk749S6m', 'id': '4VMYDCV2IEDYJArk749S6m', 'name': 'Daddy Yankee', 'type': 'artist', 'uri': 'spotify:artist:4VMYDCV2IEDYJArk749S6m'}], 'available_markets': ['AR', 'AU', 'AT', 'BE', 'BO', 'BR', 'BG', 'CA', 'CL', 'CO', 'CR', 'CY', 'CZ', 'DK', 'DO', 'DE', 'EC', 'EE', 'SV', 'FI', 'FR', 'GR', 'GT', 'HN', 'HK', 'HU', 'IS', 'IE', 'IT', 'LV', 'LT', 'LU', 'MY', 'MT', 'MX', 'NL', 'NZ', 'NI', 'NO', 'PA', 'PY', 'PE', 'PH', 'PL', 'PT', 'SG', 'SK', 'ES', 'SE', 'CH', 'TW', 'TR', 'UY', 'US', 'GB', 'AD', 'LI', 'MC', 'ID', 'JP', 'TH', 'VN', 'RO', 'IL', 'ZA', 'SA', 'AE', 'BH', 'QA', 'OM', 'KW', 'EG', 'MA', 'DZ', 'TN', 'LB', 'JO', 'PS', 'IN', 'KZ', 'MD', 'UA', 'AL', 'BA', 'HR', 'ME', 'MK', 'RS', 'SI', 'KR', 'BD', 'PK', 'LK', 'GH', 'KE', 'NG', 'TZ', 'UG', 'AG', 'AM', 'BS', 'BB', 'BZ', 'BT', 'BW', 'BF', 'CV', 'CW', 'DM', 'FJ', 'GM', 'GE', 'GD', 'GW', 'GY', 'HT', 'JM', 'KI', 'LS', 'LR', 'MW', 'MV', 'ML', 'MH', 'FM', 'NA', 'NR', 'NE', 'PW', 'PG', 'WS', 'SM', 'ST', 'SN', 'SC', 'SL', 'SB', 'KN', 'LC', 'VC', 'SR', 'TL', 'TO', 'TT', 'TV', 'VU', 'AZ', 'BN', 'BI', 'KH', 'CM', 'TD', 'KM', 'GQ', 'SZ', 'GA', 'GN', 'KG', 'LA', 'MO', 'MR', 'MN', 'NP', 'RW', 'TG', 'UZ', 'ZW', 'BJ', 'MG', 'MU', 'MZ', 'AO', 'CI', 'DJ', 'ZM', 'CD', 'CG', 'IQ', 'LY', 'TJ', 'VE', 'ET', 'XK'], 'external_urls': {'spotify': 'https://open.spotify.com/album/7BmWnXvx1CD6vtxtBd0czc'}, 'href': 'https://api.spotify.com/v1/albums/7BmWnXvx1CD6vtxtBd0czc', 'id': '7BmWnXvx1CD6vtxtBd0czc', 'images': [{'url': 'https://i.scdn.co/image/ab67616d0000b27311b9999b620ef9bc0e957623', 'height': 640, 'width': 640}, {'url': 'https://i.scdn.co/image/ab67616d00001e0211b9999b620ef9bc0e957623', 'height': 300, 'width': 300}, {'url': 'https://i.scdn.co/image/ab67616d0000485111b9999b620ef9bc0e957623', 'height': 64, 'width': 64}], 'is_playable': True, 'name': 'Barrio Fino (Bonus Track Version)', 'release_date': '2004-07-13', 'release_date_precision': 'day', 'total_tracks': 23, 'type': 'album', 'uri': 'spotify:album:7BmWnXvx1CD6vtxtBd0czc'}, 'artists': [{'external_urls': {'spotify': 'https://open.spotify.com/artist/4VMYDCV2IEDYJArk749S6m'}, 'href': 'https://api.spotify.com/v1/artists/4VMYDCV2IEDYJArk749S6m', 'id': '4VMYDCV2IEDYJArk749S6m', 'name': 'Daddy Yankee', 'type': 'artist', 'uri': 'spotify:artist:4VMYDCV2IEDYJArk749S6m'}, {'external_urls': {'spotify': 'https://open.spotify.com/artist/21451j1KhjAiaYKflxBjr1'}, 'href': 'https://api.spotify.com/v1/artists/21451j1KhjAiaYKflxBjr1', 'id': '21451j1KhjAiaYKflxBjr1', 'name': 'Zion & Lennox', 'type': 'artist', 'uri': 'spotify:artist:21451j1KhjAiaYKflxBjr1'}], 'available_markets': ['AR', 'AU', 'AT', 'BE', 'BO', 'BR', 'BG', 'CA', 'CL', 'CO', 'CR', 'CY', 'CZ', 'DK', 'DO', 'DE', 'EC', 'EE', 'SV', 'FI', 'FR', 'GR', 'GT', 'HN', 'HK', 'HU', 'IS', 'IE', 'IT', 'LV', 'LT', 'LU', 'MY', 'MT', 'MX', 'NL', 'NZ', 'NI', 'NO', 'PA', 'PY', 'PE', 'PH', 'PL', 'PT', 'SG', 'SK', 'ES', 'SE', 'CH', 'TW', 'TR', 'UY', 'US', 'GB', 'AD', 'LI', 'MC', 'ID', 'JP', 'TH', 'VN', 'RO', 'IL', 'ZA', 'SA', 'AE', 'BH', 'QA', 'OM', 'KW', 'EG', 'MA', 'DZ', 'TN', 'LB', 'JO', 'PS', 'IN', 'KZ', 'MD', 'UA', 'AL', 'BA', 'HR', 'ME', 'MK', 'RS', 'SI', 'KR', 'BD', 'PK', 'LK', 'GH', 'KE', 'NG', 'TZ', 'UG', 'AG', 'AM', 'BS', 'BB', 'BZ', 'BT', 'BW', 'BF', 'CV', 'CW', 'DM', 'FJ', 'GM', 'GE', 'GD', 'GW', 'GY', 'HT', 'JM', 'KI', 'LS', 'LR', 'MW', 'MV', 'ML', 'MH', 'FM', 'NA', 'NR', 'NE', 'PW', 'PG', 'WS', 'SM', 'ST', 'SN', 'SC', 'SL', 'SB', 'KN', 'LC', 'VC', 'SR', 'TL', 'TO', 'TT', 'TV', 'VU', 'AZ', 'BN', 'BI', 'KH', 'CM', 'TD', 'KM', 'GQ', 'SZ', 'GA', 'GN', 'KG', 'LA', 'MO', 'MR', 'MN', 'NP', 'RW', 'TG', 'UZ', 'ZW', 'BJ', 'MG', 'MU', 'MZ', 'AO', 'CI', 'DJ', 'ZM', 'CD', 'CG', 'IQ', 'LY', 'TJ', 'VE', 'ET', 'XK'], 'disc_number': 1, 'duration_ms': 205520, 'explicit': False, 'external_ids': {'isrc': 'QM6N21759346'}, 'external_urls': {'spotify': 'https://open.spotify.com/track/47D1TIULCsrnqi4qs98Eur'}, 'href': 'https://api.spotify.com/v1/tracks/47D1TIULCsrnqi4qs98Eur', 'id': '47D1TIULCsrnqi4qs98Eur', 'is_local': False, 'is_playable': True, 'name': 'Tu Príncipe', 'popularity': 58, 'preview_url': None, 'track_number': 9, 'type': 'track', 'uri': 'spotify:track:47D1TIULCsrnqi4qs98Eur'}, {'album': {'album_type': 'album', 'artists': [{'external_urls': {'spotify': 'https://open.spotify.com/artist/47MpMsUfWtgyIIBEFOr4FE'}, 'href': 'https://api.spotify.com/v1/artists/47MpMsUfWtgyIIBEFOr4FE', 'id': '47MpMsUfWtgyIIBEFOr4FE', 'name': 'Lunay', 'type': 'artist', 'uri': 'spotify:artist:47MpMsUfWtgyIIBEFOr4FE'}], 'available_markets': ['AR', 'AU', 'AT', 'BE', 'BO', 'BR', 'BG', 'CA', 'CL', 'CO', 'CR', 'CY', 'CZ', 'DK', 'DO', 'DE', 'EC', 'EE', 'SV', 'FI', 'FR', 'GR', 'GT', 'HN', 'HK', 'HU', 'IS', 'IE', 'IT', 'LV', 'LT', 'LU', 'MY', 'MT', 'MX', 'NL', 'NZ', 'NI', 'NO', 'PA', 'PY', 'PE', 'PH', 'PL', 'PT', 'SG', 'SK', 'ES', 'SE', 'CH', 'TW', 'TR', 'UY', 'US', 'GB', 'AD', 'LI', 'MC', 'ID', 'JP', 'TH', 'VN', 'RO', 'IL', 'ZA', 'SA', 'AE', 'BH', 'QA', 'OM', 'KW', 'EG', 'MA', 'DZ', 'TN', 'LB', 'JO', 'PS', 'IN', 'BY', 'KZ', 'MD', 'UA', 'AL', 'BA', 'HR', 'ME', 'MK', 'RS', 'SI', 'KR', 'BD', 'PK', 'LK', 'GH', 'KE', 'NG', 'TZ', 'UG', 'AG', 'AM', 'BS', 'BB', 'BZ', 'BT', 'BW', 'BF', 'CV', 'CW', 'DM', 'FJ', 'GM', 'GE', 'GD', 'GW', 'GY', 'HT', 'JM', 'KI', 'LS', 'LR', 'MW', 'MV', 'ML', 'MH', 'FM', 'NA', 'NR', 'NE', 'PW', 'PG', 'PR', 'WS', 'SM', 'ST', 'SN', 'SC', 'SL', 'SB', 'KN', 'LC', 'VC', 'SR', 'TL', 'TO', 'TT', 'TV', 'VU', 'AZ', 'BN', 'BI', 'KH', 'CM', 'TD', 'KM', 'GQ', 'SZ', 'GA', 'GN', 'KG', 'LA', 'MO', 'MR', 'MN', 'NP', 'RW', 'TG', 'UZ', 'ZW', 'BJ', 'MG', 'MU', 'MZ', 'AO', 'CI', 'DJ', 'ZM', 'CD', 'CG', 'IQ', 'LY', 'TJ', 'VE', 'ET', 'XK'], 'external_urls': {'spotify': 'https://open.spotify.com/album/46xbsFOp9g1WqTidQEs7YT'}, 'href': 'https://api.spotify.com/v1/albums/46xbsFOp9g1WqTidQEs7YT', 'id': '46xbsFOp9g1WqTidQEs7YT', 'images': [{'url': 'https://i.scdn.co/image/ab67616d0000b273fddcbb546dd3440b1897c4c7', 'height': 640, 'width': 640}, {'url': 'https://i.scdn.co/image/ab67616d00001e02fddcbb546dd3440b1897c4c7', 'height': 300, 'width': 300}, {'url': 'https://i.scdn.co/image/ab67616d00004851fddcbb546dd3440b1897c4c7', 'height': 64, 'width': 64}], 'is_playable': True, 'name': 'Épico', 'release_date': '2019-10-25', 'release_date_precision': 'day', 'total_tracks': 14, 'type': 'album', 'uri': 'spotify:album:46xbsFOp9g1WqTidQEs7YT'}, 'artists': [{'external_urls': {'spotify': 'https://open.spotify.com/artist/47MpMsUfWtgyIIBEFOr4FE'}, 'href': 'https://api.spotify.com/v1/artists/47MpMsUfWtgyIIBEFOr4FE', 'id': '47MpMsUfWtgyIIBEFOr4FE', 'name': 'Lunay', 'type': 'artist', 'uri': 'spotify:artist:47MpMsUfWtgyIIBEFOr4FE'}, {'external_urls': {'spotify': 'https://open.spotify.com/artist/4VMYDCV2IEDYJArk749S6m'}, 'href': 'https://api.spotify.com/v1/artists/4VMYDCV2IEDYJArk749S6m', 'id': '4VMYDCV2IEDYJArk749S6m', 'name': 'Daddy Yankee', 'type': 'artist', 'uri': 'spotify:artist:4VMYDCV2IEDYJArk749S6m'}, {'external_urls': {'spotify': 'https://open.spotify.com/artist/4q3ewBCX7sLwd24euuV69X'}, 'href': 'https://api.spotify.com/v1/artists/4q3ewBCX7sLwd24euuV69X', 'id': '4q3ewBCX7sLwd24euuV69X', 'name': 'Bad Bunny', 'type': 'artist', 'uri': 'spotify:artist:4q3ewBCX7sLwd24euuV69X'}], 'available_markets': ['AR', 'AU', 'AT', 'BE', 'BO', 'BR', 'BG', 'CA', 'CL', 'CO', 'CR', 'CY', 'CZ', 'DK', 'DO', 'DE', 'EC', 'EE', 'SV', 'FI', 'FR', 'GR', 'GT', 'HN', 'HK', 'HU', 'IS', 'IE', 'IT', 'LV', 'LT', 'LU', 'MY', 'MT', 'MX', 'NL', 'NZ', 'NI', 'NO', 'PA', 'PY', 'PE', 'PH', 'PL', 'PT', 'SG', 'SK', 'ES', 'SE', 'CH', 'TW', 'TR', 'UY', 'US', 'GB', 'AD', 'LI', 'MC', 'ID', 'JP', 'TH', 'VN', 'RO', 'IL', 'ZA', 'SA', 'AE', 'BH', 'QA', 'OM', 'KW', 'EG', 'MA', 'DZ', 'TN', 'LB', 'JO', 'PS', 'IN', 'BY', 'KZ', 'MD', 'UA', 'AL', 'BA', 'HR', 'ME', 'MK', 'RS', 'SI', 'KR', 'BD', 'PK', 'LK', 'GH', 'KE', 'NG', 'TZ', 'UG', 'AG', 'AM', 'BS', 'BB', 'BZ', 'BT', 'BW', 'BF', 'CV', 'CW', 'DM', 'FJ', 'GM', 'GE', 'GD', 'GW', 'GY', 'HT', 'JM', 'KI', 'LS', 'LR', 'MW', 'MV', 'ML', 'MH', 'FM', 'NA', 'NR', 'NE', 'PW', 'PG', 'PR', 'WS', 'SM', 'ST', 'SN', 'SC', 'SL', 'SB', 'KN', 'LC', 'VC', 'SR', 'TL', 'TO', 'TT', 'TV', 'VU', 'AZ', 'BN', 'BI', 'KH', 'CM', 'TD', 'KM', 'GQ', 'SZ', 'GA', 'GN', 'KG', 'LA', 'MO', 'MR', 'MN', 'NP', 'RW', 'TG', 'UZ', 'ZW', 'BJ', 'MG', 'MU', 'MZ', 'AO', 'CI', 'DJ', 'ZM', 'CD', 'CG', 'IQ', 'LY', 'TJ', 'VE', 'ET', 'XK'], 'disc_number': 1, 'duration_ms': 266086, 'explicit': False, 'external_ids': {'isrc': 'USA2P1927909'}, 'external_urls': {'spotify': 'https://open.spotify.com/track/4t9a07PAghtQMRAIP9FQ7Z'}, 'href': 'https://api.spotify.com/v1/tracks/4t9a07PAghtQMRAIP9FQ7Z', 'id': '4t9a07PAghtQMRAIP9FQ7Z', 'is_local': False, 'is_playable': True, 'name': 'Soltera (Remix)', 'popularity': 74, 'preview_url': None, 'track_number': 7, 'type': 'track', 'uri': 'spotify:track:4t9a07PAghtQMRAIP9FQ7Z'}, {'album': {'album_type': 'single', 'artists': [{'external_urls': {'spotify': 'https://open.spotify.com/artist/4VMYDCV2IEDYJArk749S6m'}, 'href': 'https://api.spotify.com/v1/artists/4VMYDCV2IEDYJArk749S6m', 'id': '4VMYDCV2IEDYJArk749S6m', 'name': 'Daddy Yankee', 'type': 'artist', 'uri': 'spotify:artist:4VMYDCV2IEDYJArk749S6m'}], 'available_markets': ['AR', 'AU', 'AT', 'BE', 'BO', 'BR', 'BG', 'CA', 'CL', 'CO', 'CR', 'CY', 'CZ', 'DK', 'DO', 'DE', 'EC', 'EE', 'SV', 'FI', 'FR', 'GR', 'GT', 'HN', 'HK', 'HU', 'IS', 'IE', 'IT', 'LV', 'LT', 'LU', 'MY', 'MT', 'MX', 'NL', 'NZ', 'NI', 'NO', 'PA', 'PY', 'PE', 'PH', 'PL', 'PT', 'SG', 'SK', 'ES', 'SE', 'CH', 'TW', 'TR', 'UY', 'US', 'GB', 'AD', 'LI', 'MC', 'ID', 'JP', 'TH', 'VN', 'RO', 'IL', 'ZA', 'SA', 'AE', 'BH', 'QA', 'OM', 'KW', 'EG', 'MA', 'DZ', 'TN', 'LB', 'JO', 'PS', 'IN', 'BY', 'KZ', 'MD', 'UA', 'AL', 'BA', 'HR', 'ME', 'MK', 'RS', 'SI', 'KR', 'BD', 'PK', 'LK', 'GH', 'KE', 'NG', 'TZ', 'UG', 'AG', 'AM', 'BS', 'BB', 'BZ', 'BT', 'BW', 'BF', 'CV', 'CW', 'DM', 'FJ', 'GM', 'GE', 'GD', 'GW', 'GY', 'HT', 'JM', 'KI', 'LS', 'LR', 'MW', 'MV', 'ML', 'MH', 'FM', 'NA', 'NR', 'NE', 'PW', 'PG', 'WS', 'SM', 'ST', 'SN', 'SC', 'SL', 'SB', 'KN', 'LC', 'VC', 'SR', 'TL', 'TO', 'TT', 'TV', 'VU', 'AZ', 'BN', 'BI', 'KH', 'CM', 'TD', 'KM', 'GQ', 'SZ', 'GA', 'GN', 'KG', 'LA', 'MO', 'MR', 'MN', 'NP', 'RW', 'TG', 'UZ', 'ZW', 'BJ', 'MG', 'MU', 'MZ', 'AO', 'CI', 'DJ', 'ZM', 'CD', 'CG', 'IQ', 'LY', 'TJ', 'VE', 'ET', 'XK'], 'external_urls': {'spotify': 'https://open.spotify.com/album/1otwHKoQ5KPaiekpYk4tWh'}, 'href': 'https://api.spotify.com/v1/albums/1otwHKoQ5KPaiekpYk4tWh', 'id': '1otwHKoQ5KPaiekpYk4tWh', 'images': [{'url': 'https://i.scdn.co/image/ab67616d0000b273896ffcd42561c44fea2bae7b', 'height': 640, 'width': 640}, {'url': 'https://i.scdn.co/image/ab67616d00001e02896ffcd42561c44fea2bae7b', 'height': 300, 'width': 300}, {'url': 'https://i.scdn.co/image/ab67616d00004851896ffcd42561c44fea2bae7b', 'height': 64, 'width': 64}], 'is_playable': True, 'name': 'Con Calma', 'release_date': '2019-01-24', 'release_date_precision': 'day', 'total_tracks': 1, 'type': 'album', 'uri': 'spotify:album:1otwHKoQ5KPaiekpYk4tWh'}, 'artists': [{'external_urls': {'spotify': 'https://open.spotify.com/artist/4VMYDCV2IEDYJArk749S6m'}, 'href': 'https://api.spotify.com/v1/artists/4VMYDCV2IEDYJArk749S6m', 'id': '4VMYDCV2IEDYJArk749S6m', 'name': 'Daddy Yankee', 'type': 'artist', 'uri': 'spotify:artist:4VMYDCV2IEDYJArk749S6m'}, {'external_urls': {'spotify': 'https://open.spotify.com/artist/3uZFBSsMiooimnprFL9jD1'}, 'href': 'https://api.spotify.com/v1/artists/3uZFBSsMiooimnprFL9jD1', 'id': '3uZFBSsMiooimnprFL9jD1', 'name': 'Snow', 'type': 'artist', 'uri': 'spotify:artist:3uZFBSsMiooimnprFL9jD1'}], 'available_markets': ['AR', 'AU', 'AT', 'BE', 'BO', 'BR', 'BG', 'CA', 'CL', 'CO', 'CR', 'CY', 'CZ', 'DK', 'DO', 'DE', 'EC', 'EE', 'SV', 'FI', 'FR', 'GR', 'GT', 'HN', 'HK', 'HU', 'IS', 'IE', 'IT', 'LV', 'LT', 'LU', 'MY', 'MT', 'MX', 'NL', 'NZ', 'NI', 'NO', 'PA', 'PY', 'PE', 'PH', 'PL', 'PT', 'SG', 'SK', 'ES', 'SE', 'CH', 'TW', 'TR', 'UY', 'US', 'GB', 'AD', 'LI', 'MC', 'ID', 'JP', 'TH', 'VN', 'RO', 'IL', 'ZA', 'SA', 'AE', 'BH', 'QA', 'OM', 'KW', 'EG', 'MA', 'DZ', 'TN', 'LB', 'JO', 'PS', 'IN', 'BY', 'KZ', 'MD', 'UA', 'AL', 'BA', 'HR', 'ME', 'MK', 'RS', 'SI', 'KR', 'BD', 'PK', 'LK', 'GH', 'KE', 'NG', 'TZ', 'UG', 'AG', 'AM', 'BS', 'BB', 'BZ', 'BT', 'BW', 'BF', 'CV', 'CW', 'DM', 'FJ', 'GM', 'GE', 'GD', 'GW', 'GY', 'HT', 'JM', 'KI', 'LS', 'LR', 'MW', 'MV', 'ML', 'MH', 'FM', 'NA', 'NR', 'NE', 'PW', 'PG', 'WS', 'SM', 'ST', 'SN', 'SC', 'SL', 'SB', 'KN', 'LC', 'VC', 'SR', 'TL', 'TO', 'TT', 'TV', 'VU', 'AZ', 'BN', 'BI', 'KH', 'CM', 'TD', 'KM', 'GQ', 'SZ', 'GA', 'GN', 'KG', 'LA', 'MO', 'MR', 'MN', 'NP', 'RW', 'TG', 'UZ', 'ZW', 'BJ', 'MG', 'MU', 'MZ', 'AO', 'CI', 'DJ', 'ZM', 'CD', 'CG', 'IQ', 'LY', 'TJ', 'VE', 'ET', 'XK'], 'disc_number': 1, 'duration_ms': 193226, 'explicit': False, 'external_ids': {'isrc': 'US2BU1900125'}, 'external_urls': {'spotify': 'https://open.spotify.com/track/5w9c2J52mkdntKOmRLeM2m'}, 'href': 'https://api.spotify.com/v1/tracks/5w9c2J52mkdntKOmRLeM2m', 'id': '5w9c2J52mkdntKOmRLeM2m', 'is_local': False, 'is_playable': True, 'name': 'Con Calma', 'popularity': 76, 'preview_url': None, 'track_number': 1, 'type': 'track', 'uri': 'spotify:track:5w9c2J52mkdntKOmRLeM2m'}, {'album': {'album_type': 'album', 'artists': [{'external_urls': {'spotify': 'https://open.spotify.com/artist/4VMYDCV2IEDYJArk749S6m'}, 'href': 'https://api.spotify.com/v1/artists/4VMYDCV2IEDYJArk749S6m', 'id': '4VMYDCV2IEDYJArk749S6m', 'name': 'Daddy Yankee', 'type': 'artist', 'uri': 'spotify:artist:4VMYDCV2IEDYJArk749S6m'}], 'available_markets': ['AR', 'AU', 'AT', 'BE', 'BO', 'BR', 'BG', 'CA', 'CL', 'CO', 'CR', 'CY', 'CZ', 'DK', 'DO', 'DE', 'EC', 'EE', 'SV', 'FI', 'FR', 'GR', 'GT', 'HN', 'HK', 'HU', 'IS', 'IE', 'IT', 'LV', 'LT', 'LU', 'MY', 'MT', 'MX', 'NL', 'NZ', 'NI', 'NO', 'PA', 'PY', 'PE', 'PH', 'PL', 'PT', 'SG', 'SK', 'ES', 'SE', 'CH', 'TW', 'TR', 'UY', 'US', 'GB', 'AD', 'LI', 'MC', 'ID', 'JP', 'TH', 'VN', 'RO', 'IL', 'ZA', 'SA', 'AE', 'BH', 'QA', 'OM', 'KW', 'EG', 'MA', 'DZ', 'TN', 'LB', 'JO', 'PS', 'IN', 'KZ', 'MD', 'UA', 'AL', 'BA', 'HR', 'ME', 'MK', 'RS', 'SI', 'KR', 'BD', 'PK', 'LK', 'GH', 'KE', 'NG', 'TZ', 'UG', 'AG', 'AM', 'BS', 'BB', 'BZ', 'BT', 'BW', 'BF', 'CV', 'CW', 'DM', 'FJ', 'GM', 'GE', 'GD', 'GW', 'GY', 'HT', 'JM', 'KI', 'LS', 'LR', 'MW', 'MV', 'ML', 'MH', 'FM', 'NA', 'NR', 'NE', 'PW', 'PG', 'WS', 'SM', 'ST', 'SN', 'SC', 'SL', 'SB', 'KN', 'LC', 'VC', 'SR', 'TL', 'TO', 'TT', 'TV', 'VU', 'AZ', 'BN', 'BI', 'KH', 'CM', 'TD', 'KM', 'GQ', 'SZ', 'GA', 'GN', 'KG', 'LA', 'MO', 'MR', 'MN', 'NP', 'RW', 'TG', 'UZ', 'ZW', 'BJ', 'MG', 'MU', 'MZ', 'AO', 'CI', 'DJ', 'ZM', 'CD', 'CG', 'IQ', 'LY', 'TJ', 'VE', 'ET', 'XK'], 'external_urls': {'spotify': 'https://open.spotify.com/album/5VH6n4EzceIp8cOfHcVz9S'}, 'href': 'https://api.spotify.com/v1/albums/5VH6n4EzceIp8cOfHcVz9S', 'id': '5VH6n4EzceIp8cOfHcVz9S', 'images': [{'url': 'https://i.scdn.co/image/ab67616d0000b2735bfc5e218df1fd72e8393680', 'height': 640, 'width': 640}, {'url': 'https://i.scdn.co/image/ab67616d00001e025bfc5e218df1fd72e8393680', 'height': 300, 'width': 300}, {'url': 'https://i.scdn.co/image/ab67616d000048515bfc5e218df1fd72e8393680', 'height': 64, 'width': 64}], 'is_playable': True, 'name': 'El Cartel: The Big Boss', 'release_date': '2007-06-05', 'release_date_precision': 'day', 'total_tracks': 21, 'type': 'album', 'uri': 'spotify:album:5VH6n4EzceIp8cOfHcVz9S'}, 'artists': [{'external_urls': {'spotify': 'https://open.spotify.com/artist/4VMYDCV2IEDYJArk749S6m'}, 'href': 'https://api.spotify.com/v1/artists/4VMYDCV2IEDYJArk749S6m', 'id': '4VMYDCV2IEDYJArk749S6m', 'name': 'Daddy Yankee', 'type': 'artist', 'uri': 'spotify:artist:4VMYDCV2IEDYJArk749S6m'}], 'available_markets': ['AR', 'AU', 'AT', 'BE', 'BO', 'BR', 'BG', 'CA', 'CL', 'CO', 'CR', 'CY', 'CZ', 'DK', 'DO', 'DE', 'EC', 'EE', 'SV', 'FI', 'FR', 'GR', 'GT', 'HN', 'HK', 'HU', 'IS', 'IE', 'IT', 'LV', 'LT', 'LU', 'MY', 'MT', 'MX', 'NL', 'NZ', 'NI', 'NO', 'PA', 'PY', 'PE', 'PH', 'PL', 'PT', 'SG', 'SK', 'ES', 'SE', 'CH', 'TW', 'TR', 'UY', 'US', 'GB', 'AD', 'LI', 'MC', 'ID', 'JP', 'TH', 'VN', 'RO', 'IL', 'ZA', 'SA', 'AE', 'BH', 'QA', 'OM', 'KW', 'EG', 'MA', 'DZ', 'TN', 'LB', 'JO', 'PS', 'IN', 'KZ', 'MD', 'UA', 'AL', 'BA', 'HR', 'ME', 'MK', 'RS', 'SI', 'KR', 'BD', 'PK', 'LK', 'GH', 'KE', 'NG', 'TZ', 'UG', 'AG', 'AM', 'BS', 'BB', 'BZ', 'BT', 'BW', 'BF', 'CV', 'CW', 'DM', 'FJ', 'GM', 'GE', 'GD', 'GW', 'GY', 'HT', 'JM', 'KI', 'LS', 'LR', 'MW', 'MV', 'ML', 'MH', 'FM', 'NA', 'NR', 'NE', 'PW', 'PG', 'WS', 'SM', 'ST', 'SN', 'SC', 'SL', 'SB', 'KN', 'LC', 'VC', 'SR', 'TL', 'TO', 'TT', 'TV', 'VU', 'AZ', 'BN', 'BI', 'KH', 'CM', 'TD', 'KM', 'GQ', 'SZ', 'GA', 'GN', 'KG', 'LA', 'MO', 'MR', 'MN', 'NP', 'RW', 'TG', 'UZ', 'ZW', 'BJ', 'MG', 'MU', 'MZ', 'AO', 'CI', 'DJ', 'ZM', 'CD', 'CG', 'IQ', 'LY', 'TJ', 'VE', 'ET', 'XK'], 'disc_number': 1, 'duration_ms': 209493, 'explicit': False, 'external_ids': {'isrc': 'QM7281714880'}, 'external_urls': {'spotify': 'https://open.spotify.com/track/0nhbuIdjSaPEdflhu3fK2l'}, 'href': 'https://api.spotify.com/v1/tracks/0nhbuIdjSaPEdflhu3fK2l', 'id': '0nhbuIdjSaPEdflhu3fK2l', 'is_local': False, 'is_playable': True, 'name': 'Ella Me Levantó', 'popularity': 60, 'preview_url': None, 'track_number': 6, 'type': 'track', 'uri': 'spotify:track:0nhbuIdjSaPEdflhu3fK2l'}, {'album': {'album_type': 'album', 'artists': [{'external_urls': {'spotify': 'https://open.spotify.com/artist/4VMYDCV2IEDYJArk749S6m'}, 'href': 'https://api.spotify.com/v1/artists/4VMYDCV2IEDYJArk749S6m', 'id': '4VMYDCV2IEDYJArk749S6m', 'name': 'Daddy Yankee', 'type': 'artist', 'uri': 'spotify:artist:4VMYDCV2IEDYJArk749S6m'}], 'available_markets': ['AR', 'AU', 'AT', 'BE', 'BO', 'BR', 'BG', 'CA', 'CL', 'CO', 'CR', 'CY', 'CZ', 'DK', 'DO', 'DE', 'EC', 'EE', 'SV', 'FI', 'FR', 'GR', 'GT', 'HN', 'HK', 'HU', 'IS', 'IE', 'IT', 'LV', 'LT', 'LU', 'MY', 'MT', 'MX', 'NL', 'NZ', 'NI', 'NO', 'PA', 'PY', 'PE', 'PH', 'PL', 'PT', 'SG', 'SK', 'ES', 'SE', 'CH', 'TW', 'TR', 'UY', 'US', 'GB', 'AD', 'LI', 'MC', 'ID', 'JP', 'TH', 'VN', 'RO', 'IL', 'ZA', 'SA', 'AE', 'BH', 'QA', 'OM', 'KW', 'EG', 'MA', 'DZ', 'TN', 'LB', 'JO', 'PS', 'IN', 'KZ', 'MD', 'UA', 'AL', 'BA', 'HR', 'ME', 'MK', 'RS', 'SI', 'KR', 'BD', 'PK', 'LK', 'GH', 'KE', 'NG', 'TZ', 'UG', 'AG', 'AM', 'BS', 'BB', 'BZ', 'BT', 'BW', 'BF', 'CV', 'CW', 'DM', 'FJ', 'GM', 'GE', 'GD', 'GW', 'GY', 'HT', 'JM', 'KI', 'LS', 'LR', 'MW', 'MV', 'ML', 'MH', 'FM', 'NA', 'NR', 'NE', 'PW', 'PG', 'WS', 'SM', 'ST', 'SN', 'SC', 'SL', 'SB', 'KN', 'LC', 'VC', 'SR', 'TL', 'TO', 'TT', 'TV', 'VU', 'AZ', 'BN', 'BI', 'KH', 'CM', 'TD', 'KM', 'GQ', 'SZ', 'GA', 'GN', 'KG', 'LA', 'MO', 'MR', 'MN', 'NP', 'RW', 'TG', 'UZ', 'ZW', 'BJ', 'MG', 'MU', 'MZ', 'AO', 'CI', 'DJ', 'ZM', 'CD', 'CG', 'IQ', 'LY', 'TJ', 'VE', 'ET', 'XK'], 'external_urls': {'spotify': 'https://open.spotify.com/album/1KvWjARMNg4QmqyLLb0zp1'}, 'href': 'https://api.spotify.com/v1/albums/1KvWjARMNg4QmqyLLb0zp1', 'id': '1KvWjARMNg4QmqyLLb0zp1', 'images': [{'url': 'https://i.scdn.co/image/ab67616d0000b2735f5bd069de5a5164ea7264fe', 'height': 640, 'width': 640}, {'url': 'https://i.scdn.co/image/ab67616d00001e025f5bd069de5a5164ea7264fe', 'height': 300, 'width': 300}, {'url': 'https://i.scdn.co/image/ab67616d000048515f5bd069de5a5164ea7264fe', 'height': 64, 'width': 64}], 'is_playable': True, 'name': 'Mundial (Deluxe Version)', 'release_date': '2010-04-27', 'release_date_precision': 'day', 'total_tracks': 15, 'type': 'album', 'uri': 'spotify:album:1KvWjARMNg4QmqyLLb0zp1'}, 'artists': [{'external_urls': {'spotify': 'https://open.spotify.com/artist/4VMYDCV2IEDYJArk749S6m'}, 'href': 'https://api.spotify.com/v1/artists/4VMYDCV2IEDYJArk749S6m', 'id': '4VMYDCV2IEDYJArk749S6m', 'name': 'Daddy Yankee', 'type': 'artist', 'uri': 'spotify:artist:4VMYDCV2IEDYJArk749S6m'}], 'available_markets': ['AR', 'AU', 'AT', 'BE', 'BO', 'BR', 'BG', 'CA', 'CL', 'CO', 'CR', 'CY', 'CZ', 'DK', 'DO', 'DE', 'EC', 'EE', 'SV', 'FI', 'FR', 'GR', 'GT', 'HN', 'HK', 'HU', 'IS', 'IE', 'IT', 'LV', 'LT', 'LU', 'MY', 'MT', 'MX', 'NL', 'NZ', 'NI', 'NO', 'PA', 'PY', 'PE', 'PH', 'PL', 'PT', 'SG', 'SK', 'ES', 'SE', 'CH', 'TW', 'TR', 'UY', 'US', 'GB', 'AD', 'LI', 'MC', 'ID', 'JP', 'TH', 'VN', 'RO', 'IL', 'ZA', 'SA', 'AE', 'BH', 'QA', 'OM', 'KW', 'EG', 'MA', 'DZ', 'TN', 'LB', 'JO', 'PS', 'IN', 'KZ', 'MD', 'UA', 'AL', 'BA', 'HR', 'ME', 'MK', 'RS', 'SI', 'KR', 'BD', 'PK', 'LK', 'GH', 'KE', 'NG', 'TZ', 'UG', 'AG', 'AM', 'BS', 'BB', 'BZ', 'BT', 'BW', 'BF', 'CV', 'CW', 'DM', 'FJ', 'GM', 'GE', 'GD', 'GW', 'GY', 'HT', 'JM', 'KI', 'LS', 'LR', 'MW', 'MV', 'ML', 'MH', 'FM', 'NA', 'NR', 'NE', 'PW', 'PG', 'WS', 'SM', 'ST', 'SN', 'SC', 'SL', 'SB', 'KN', 'LC', 'VC', 'SR', 'TL', 'TO', 'TT', 'TV', 'VU', 'AZ', 'BN', 'BI', 'KH', 'CM', 'TD', 'KM', 'GQ', 'SZ', 'GA', 'GN', 'KG', 'LA', 'MO', 'MR', 'MN', 'NP', 'RW', 'TG', 'UZ', 'ZW', 'BJ', 'MG', 'MU', 'MZ', 'AO', 'CI', 'DJ', 'ZM', 'CD', 'CG', 'IQ', 'LY', 'TJ', 'VE', 'ET', 'XK'], 'disc_number': 1, 'duration_ms': 202826, 'explicit': False, 'external_ids': {'isrc': 'US2BU1000145'}, 'external_urls': {'spotify': 'https://open.spotify.com/track/0fqrZVSenCW6vD2eFMx5pt'}, 'href': 'https://api.spotify.com/v1/tracks/0fqrZVSenCW6vD2eFMx5pt', 'id': '0fqrZVSenCW6vD2eFMx5pt', 'is_local': False, 'is_playable': True, 'name': 'La Despedida', 'popularity': 59, 'preview_url': None, 'track_number': 5, 'type': 'track', 'uri': 'spotify:track:0fqrZVSenCW6vD2eFMx5pt'}, {'album': {'album_type': 'album', 'artists': [{'external_urls': {'spotify': 'https://open.spotify.com/artist/4VMYDCV2IEDYJArk749S6m'}, 'href': 'https://api.spotify.com/v1/artists/4VMYDCV2IEDYJArk749S6m', 'id': '4VMYDCV2IEDYJArk749S6m', 'name': 'Daddy Yankee', 'type': 'artist', 'uri': 'spotify:artist:4VMYDCV2IEDYJArk749S6m'}], 'available_markets': ['AR', 'AU', 'AT', 'BE', 'BO', 'BR', 'BG', 'CA', 'CL', 'CO', 'CR', 'CY', 'CZ', 'DK', 'DO', 'DE', 'EC', 'EE', 'SV', 'FI', 'FR', 'GR', 'GT', 'HN', 'HK', 'HU', 'IS', 'IE', 'IT', 'LV', 'LT', 'LU', 'MY', 'MT', 'MX', 'NL', 'NZ', 'NI', 'NO', 'PA', 'PY', 'PE', 'PH', 'PL', 'PT', 'SG', 'SK', 'ES', 'SE', 'CH', 'TW', 'TR', 'UY', 'US', 'GB', 'AD', 'LI', 'MC', 'ID', 'JP', 'TH', 'VN', 'RO', 'IL', 'ZA', 'SA', 'AE', 'BH', 'QA', 'OM', 'KW', 'EG', 'MA', 'DZ', 'TN', 'LB', 'JO', 'PS', 'IN', 'BY', 'KZ', 'MD', 'UA', 'AL', 'BA', 'HR', 'ME', 'MK', 'RS', 'SI', 'KR', 'BD', 'PK', 'LK', 'GH', 'KE', 'NG', 'TZ', 'UG', 'AG', 'AM', 'BS', 'BB', 'BZ', 'BT', 'BW', 'BF', 'CV', 'CW', 'DM', 'FJ', 'GM', 'GE', 'GD', 'GW', 'GY', 'HT', 'JM', 'KI', 'LS', 'LR', 'MW', 'MV', 'ML', 'MH', 'FM', 'NA', 'NR', 'NE', 'PW', 'PG', 'PR', 'WS', 'SM', 'ST', 'SN', 'SC', 'SL', 'SB', 'KN', 'LC', 'VC', 'SR', 'TL', 'TO', 'TT', 'TV', 'VU', 'AZ', 'BN', 'BI', 'KH', 'CM', 'TD', 'KM', 'GQ', 'SZ', 'GA', 'GN', 'KG', 'LA', 'MO', 'MR', 'MN', 'NP', 'RW', 'TG', 'UZ', 'ZW', 'BJ', 'MG', 'MU', 'MZ', 'AO', 'CI', 'DJ', 'ZM', 'CD', 'CG', 'IQ', 'LY', 'TJ', 'VE', 'ET', 'XK'], 'external_urls': {'spotify': 'https://open.spotify.com/album/7JeWY0pvC27pCgn5eiSeV6'}, 'href': 'https://api.spotify.com/v1/albums/7JeWY0pvC27pCgn5eiSeV6', 'id': '7JeWY0pvC27pCgn5eiSeV6', 'images': [{'url': 'https://i.scdn.co/image/ab67616d0000b273522f64d160907ff8a7b61bc7', 'height': 640, 'width': 640}, {'url': 'https://i.scdn.co/image/ab67616d00001e02522f64d160907ff8a7b61bc7', 'height': 300, 'width': 300}, {'url': 'https://i.scdn.co/image/ab67616d00004851522f64d160907ff8a7b61bc7', 'height': 64, 'width': 64}], 'is_playable': True, 'name': 'Talento de Barrio', 'release_date': '2008-08-12', 'release_date_precision': 'day', 'total_tracks': 16, 'type': 'album', 'uri': 'spotify:album:7JeWY0pvC27pCgn5eiSeV6'}, 'artists': [{'external_urls': {'spotify': 'https://open.spotify.com/artist/4VMYDCV2IEDYJArk749S6m'}, 'href': 'https://api.spotify.com/v1/artists/4VMYDCV2IEDYJArk749S6m', 'id': '4VMYDCV2IEDYJArk749S6m', 'name': 'Daddy Yankee', 'type': 'artist', 'uri': 'spotify:artist:4VMYDCV2IEDYJArk749S6m'}], 'available_markets': ['AR', 'AU', 'AT', 'BE', 'BO', 'BR', 'BG', 'CA', 'CL', 'CO', 'CR', 'CY', 'CZ', 'DK', 'DO', 'DE', 'EC', 'EE', 'SV', 'FI', 'FR', 'GR', 'GT', 'HN', 'HK', 'HU', 'IS', 'IE', 'IT', 'LV', 'LT', 'LU', 'MY', 'MT', 'MX', 'NL', 'NZ', 'NI', 'NO', 'PA', 'PY', 'PE', 'PH', 'PL', 'PT', 'SG', 'SK', 'ES', 'SE', 'CH', 'TW', 'TR', 'UY', 'US', 'GB', 'AD', 'LI', 'MC', 'ID', 'JP', 'TH', 'VN', 'RO', 'IL', 'ZA', 'SA', 'AE', 'BH', 'QA', 'OM', 'KW', 'EG', 'MA', 'DZ', 'TN', 'LB', 'JO', 'PS', 'IN', 'BY', 'KZ', 'MD', 'UA', 'AL', 'BA', 'HR', 'ME', 'MK', 'RS', 'SI', 'KR', 'BD', 'PK', 'LK', 'GH', 'KE', 'NG', 'TZ', 'UG', 'AG', 'AM', 'BS', 'BB', 'BZ', 'BT', 'BW', 'BF', 'CV', 'CW', 'DM', 'FJ', 'GM', 'GE', 'GD', 'GW', 'GY', 'HT', 'JM', 'KI', 'LS', 'LR', 'MW', 'MV', 'ML', 'MH', 'FM', 'NA', 'NR', 'NE', 'PW', 'PG', 'PR', 'WS', 'SM', 'ST', 'SN', 'SC', 'SL', 'SB', 'KN', 'LC', 'VC', 'SR', 'TL', 'TO', 'TT', 'TV', 'VU', 'AZ', 'BN', 'BI', 'KH', 'CM', 'TD', 'KM', 'GQ', 'SZ', 'GA', 'GN', 'KG', 'LA', 'MO', 'MR', 'MN', 'NP', 'RW', 'TG', 'UZ', 'ZW', 'BJ', 'MG', 'MU', 'MZ', 'AO', 'CI', 'DJ', 'ZM', 'CD', 'CG', 'IQ', 'LY', 'TJ', 'VE', 'ET', 'XK'], 'disc_number': 1, 'duration_ms': 239920, 'explicit': False, 'external_ids': {'isrc': 'QM7281713564'}, 'external_urls': {'spotify': 'https://open.spotify.com/track/2jnZUvhw2LTvDI6YidRVcO'}, 'href': 'https://api.spotify.com/v1/tracks/2jnZUvhw2LTvDI6YidRVcO', 'id': '2jnZUvhw2LTvDI6YidRVcO', 'is_local': False, 'is_playable': True, 'name': 'Llamado de Emergencia', 'popularity': 75, 'preview_url': None, 'track_number': 5, 'type': 'track', 'uri': 'spotify:track:2jnZUvhw2LTvDI6YidRVcO'}]}\n"
                    ]
                }
            ],
            "source": [
                "#Daddy yankee\n",
                "artist_id = \"4VMYDCV2IEDYJArk749S6m\"\n",
                "\n",
                "response = con.artist_top_tracks(artist_id)\n",
                "print(response)"
            ]
        },
        {
            "cell_type": "code",
            "execution_count": 31,
            "metadata": {},
            "outputs": [
                {
                    "name": "stdout",
                    "output_type": "stream",
                    "text": [
                        "Daddy Yankee\n",
                        "[{'duration_ms': 3.21, 'name': 'Gasolina', 'popularity': 63}, {'duration_ms': 3.8226666666666667, 'name': 'Despacito', 'popularity': 78}, {'duration_ms': 3.51555, 'name': 'Lo Que Pasó, Pasó', 'popularity': 62}, {'duration_ms': 3.4403333333333332, 'name': 'La Santa', 'popularity': 78}, {'duration_ms': 3.425333333333333, 'name': 'Tu Príncipe', 'popularity': 58}, {'duration_ms': 4.4347666666666665, 'name': 'Soltera (Remix)', 'popularity': 74}, {'duration_ms': 3.2204333333333333, 'name': 'Con Calma', 'popularity': 76}, {'duration_ms': 3.49155, 'name': 'Ella Me Levantó', 'popularity': 60}, {'duration_ms': 3.3804333333333334, 'name': 'La Despedida', 'popularity': 59}, {'duration_ms': 3.998666666666667, 'name': 'Llamado de Emergencia', 'popularity': 75}]\n"
                    ]
                }
            ],
            "source": [
                "if response:\n",
                "    tracks = response['tracks']\n",
                "\n",
                "print(tracks[0]['artists'][0]['name'])\n",
                "\n",
                "tracks1 = [{k:(v/(1000*60)%60) if k == 'duration_ms' else v for k,v in track.items() if k in ['name', 'popularity','duration_ms']} for track in tracks]\n",
                "\n",
                "print(tracks1)"
            ]
        },
        {
            "cell_type": "code",
            "execution_count": 28,
            "metadata": {},
            "outputs": [
                {
                    "name": "stdout",
                    "output_type": "stream",
                    "text": [
                        "[{'duration_ms': 3.21, 'name': 'Gasolina', 'popularity': 63}, {'duration_ms': 3.8226666666666667, 'name': 'Despacito', 'popularity': 78}, {'duration_ms': 3.51555, 'name': 'Lo Que Pasó, Pasó', 'popularity': 62}, {'duration_ms': 3.4403333333333332, 'name': 'La Santa', 'popularity': 78}, {'duration_ms': 3.425333333333333, 'name': 'Tu Príncipe', 'popularity': 58}, {'duration_ms': 4.4347666666666665, 'name': 'Soltera (Remix)', 'popularity': 74}, {'duration_ms': 3.2204333333333333, 'name': 'Con Calma', 'popularity': 76}, {'duration_ms': 3.49155, 'name': 'Ella Me Levantó', 'popularity': 60}, {'duration_ms': 3.3804333333333334, 'name': 'La Despedida', 'popularity': 59}, {'duration_ms': 3.998666666666667, 'name': 'Llamado de Emergencia', 'popularity': 75}]\n"
                    ]
                }
            ],
            "source": [
                "tracks2 = []\n",
                "for track in tracks:\n",
                "    cancion = {}\n",
                "    for k,v in track.items():\n",
                "        if k in [\"name\",\"popularity\",\"duration_ms\"]:\n",
                "            if k == \"duration_ms\":\n",
                "                v = v/(1000*60)%60\n",
                "            cancion[k] = v\n",
                "    tracks2.append(cancion)\n",
                "\n",
                "print(tracks2)     "
            ]
        },
        {
            "cell_type": "code",
            "execution_count": 33,
            "metadata": {},
            "outputs": [
                {
                    "data": {
                        "text/html": [
                            "<div>\n",
                            "<style scoped>\n",
                            "    .dataframe tbody tr th:only-of-type {\n",
                            "        vertical-align: middle;\n",
                            "    }\n",
                            "\n",
                            "    .dataframe tbody tr th {\n",
                            "        vertical-align: top;\n",
                            "    }\n",
                            "\n",
                            "    .dataframe thead th {\n",
                            "        text-align: right;\n",
                            "    }\n",
                            "</style>\n",
                            "<table border=\"1\" class=\"dataframe\">\n",
                            "  <thead>\n",
                            "    <tr style=\"text-align: right;\">\n",
                            "      <th></th>\n",
                            "      <th>duration_ms</th>\n",
                            "      <th>name</th>\n",
                            "      <th>popularity</th>\n",
                            "    </tr>\n",
                            "  </thead>\n",
                            "  <tbody>\n",
                            "    <tr>\n",
                            "      <th>0</th>\n",
                            "      <td>3.210000</td>\n",
                            "      <td>Gasolina</td>\n",
                            "      <td>63</td>\n",
                            "    </tr>\n",
                            "    <tr>\n",
                            "      <th>1</th>\n",
                            "      <td>3.822667</td>\n",
                            "      <td>Despacito</td>\n",
                            "      <td>78</td>\n",
                            "    </tr>\n",
                            "    <tr>\n",
                            "      <th>2</th>\n",
                            "      <td>3.515550</td>\n",
                            "      <td>Lo Que Pasó, Pasó</td>\n",
                            "      <td>62</td>\n",
                            "    </tr>\n",
                            "    <tr>\n",
                            "      <th>3</th>\n",
                            "      <td>3.440333</td>\n",
                            "      <td>La Santa</td>\n",
                            "      <td>78</td>\n",
                            "    </tr>\n",
                            "    <tr>\n",
                            "      <th>4</th>\n",
                            "      <td>3.425333</td>\n",
                            "      <td>Tu Príncipe</td>\n",
                            "      <td>58</td>\n",
                            "    </tr>\n",
                            "    <tr>\n",
                            "      <th>5</th>\n",
                            "      <td>4.434767</td>\n",
                            "      <td>Soltera (Remix)</td>\n",
                            "      <td>74</td>\n",
                            "    </tr>\n",
                            "    <tr>\n",
                            "      <th>6</th>\n",
                            "      <td>3.220433</td>\n",
                            "      <td>Con Calma</td>\n",
                            "      <td>76</td>\n",
                            "    </tr>\n",
                            "    <tr>\n",
                            "      <th>7</th>\n",
                            "      <td>3.491550</td>\n",
                            "      <td>Ella Me Levantó</td>\n",
                            "      <td>60</td>\n",
                            "    </tr>\n",
                            "    <tr>\n",
                            "      <th>8</th>\n",
                            "      <td>3.380433</td>\n",
                            "      <td>La Despedida</td>\n",
                            "      <td>59</td>\n",
                            "    </tr>\n",
                            "    <tr>\n",
                            "      <th>9</th>\n",
                            "      <td>3.998667</td>\n",
                            "      <td>Llamado de Emergencia</td>\n",
                            "      <td>75</td>\n",
                            "    </tr>\n",
                            "  </tbody>\n",
                            "</table>\n",
                            "</div>"
                        ],
                        "text/plain": [
                            "   duration_ms                   name  popularity\n",
                            "0     3.210000               Gasolina          63\n",
                            "1     3.822667              Despacito          78\n",
                            "2     3.515550      Lo Que Pasó, Pasó          62\n",
                            "3     3.440333               La Santa          78\n",
                            "4     3.425333            Tu Príncipe          58\n",
                            "5     4.434767        Soltera (Remix)          74\n",
                            "6     3.220433              Con Calma          76\n",
                            "7     3.491550        Ella Me Levantó          60\n",
                            "8     3.380433           La Despedida          59\n",
                            "9     3.998667  Llamado de Emergencia          75"
                        ]
                    },
                    "execution_count": 33,
                    "metadata": {},
                    "output_type": "execute_result"
                }
            ],
            "source": [
                "tracks_df = pd.DataFrame.from_records(tracks2)\n",
                "tracks_df "
            ]
        },
        {
            "cell_type": "code",
            "execution_count": 39,
            "metadata": {},
            "outputs": [
                {
                    "data": {
                        "text/html": [
                            "<div>\n",
                            "<style scoped>\n",
                            "    .dataframe tbody tr th:only-of-type {\n",
                            "        vertical-align: middle;\n",
                            "    }\n",
                            "\n",
                            "    .dataframe tbody tr th {\n",
                            "        vertical-align: top;\n",
                            "    }\n",
                            "\n",
                            "    .dataframe thead th {\n",
                            "        text-align: right;\n",
                            "    }\n",
                            "</style>\n",
                            "<table border=\"1\" class=\"dataframe\">\n",
                            "  <thead>\n",
                            "    <tr style=\"text-align: right;\">\n",
                            "      <th></th>\n",
                            "      <th>duration_ms</th>\n",
                            "      <th>name</th>\n",
                            "      <th>popularity</th>\n",
                            "    </tr>\n",
                            "  </thead>\n",
                            "  <tbody>\n",
                            "    <tr>\n",
                            "      <th>3</th>\n",
                            "      <td>3.440333</td>\n",
                            "      <td>La Santa</td>\n",
                            "      <td>78</td>\n",
                            "    </tr>\n",
                            "    <tr>\n",
                            "      <th>1</th>\n",
                            "      <td>3.822667</td>\n",
                            "      <td>Despacito</td>\n",
                            "      <td>78</td>\n",
                            "    </tr>\n",
                            "    <tr>\n",
                            "      <th>6</th>\n",
                            "      <td>3.220433</td>\n",
                            "      <td>Con Calma</td>\n",
                            "      <td>76</td>\n",
                            "    </tr>\n",
                            "    <tr>\n",
                            "      <th>9</th>\n",
                            "      <td>3.998667</td>\n",
                            "      <td>Llamado de Emergencia</td>\n",
                            "      <td>75</td>\n",
                            "    </tr>\n",
                            "    <tr>\n",
                            "      <th>5</th>\n",
                            "      <td>4.434767</td>\n",
                            "      <td>Soltera (Remix)</td>\n",
                            "      <td>74</td>\n",
                            "    </tr>\n",
                            "    <tr>\n",
                            "      <th>0</th>\n",
                            "      <td>3.210000</td>\n",
                            "      <td>Gasolina</td>\n",
                            "      <td>63</td>\n",
                            "    </tr>\n",
                            "    <tr>\n",
                            "      <th>2</th>\n",
                            "      <td>3.515550</td>\n",
                            "      <td>Lo Que Pasó, Pasó</td>\n",
                            "      <td>62</td>\n",
                            "    </tr>\n",
                            "    <tr>\n",
                            "      <th>7</th>\n",
                            "      <td>3.491550</td>\n",
                            "      <td>Ella Me Levantó</td>\n",
                            "      <td>60</td>\n",
                            "    </tr>\n",
                            "    <tr>\n",
                            "      <th>8</th>\n",
                            "      <td>3.380433</td>\n",
                            "      <td>La Despedida</td>\n",
                            "      <td>59</td>\n",
                            "    </tr>\n",
                            "    <tr>\n",
                            "      <th>4</th>\n",
                            "      <td>3.425333</td>\n",
                            "      <td>Tu Príncipe</td>\n",
                            "      <td>58</td>\n",
                            "    </tr>\n",
                            "  </tbody>\n",
                            "</table>\n",
                            "</div>"
                        ],
                        "text/plain": [
                            "   duration_ms                   name  popularity\n",
                            "3     3.440333               La Santa          78\n",
                            "1     3.822667              Despacito          78\n",
                            "6     3.220433              Con Calma          76\n",
                            "9     3.998667  Llamado de Emergencia          75\n",
                            "5     4.434767        Soltera (Remix)          74\n",
                            "0     3.210000               Gasolina          63\n",
                            "2     3.515550      Lo Que Pasó, Pasó          62\n",
                            "7     3.491550        Ella Me Levantó          60\n",
                            "8     3.380433           La Despedida          59\n",
                            "4     3.425333            Tu Príncipe          58"
                        ]
                    },
                    "execution_count": 39,
                    "metadata": {},
                    "output_type": "execute_result"
                }
            ],
            "source": [
                "tracks_df.sort_values([\"popularity\"], inplace=True, ascending=False)\n",
                "tracks_df"
            ]
        },
        {
            "cell_type": "code",
            "execution_count": null,
            "metadata": {},
            "outputs": [],
            "source": []
        },
        {
            "cell_type": "code",
            "execution_count": 38,
            "metadata": {},
            "outputs": [
                {
                    "data": {
                        "image/png": "[encoded data removed]",
                        "text/plain": [
                            "<Figure size 640x480 with 1 Axes>"
                        ]
                    },
                    "metadata": {},
                    "output_type": "display_data"
                }
            ],
            "source": [
                "import seaborn as sns\n",
                "\n",
                "scatter_plot = sns.scatterplot(data = tracks_df, x=\"popularity\", y=\"duration_ms\")\n",
                "\n",
                "fig = scatter_plot.get_figure()\n",
                "fig.savefig(\"scatter_plot.png\")"
            ]
        },
        {
            "cell_type": "markdown",
            "metadata": {},
            "source": []
        }
    ],
    "metadata": {
        "kernelspec": {
            "display_name": "Python 3",
            "language": "python",
            "name": "python3"
        },
        "language_info": {
            "codemirror_mode": {
                "name": "ipython",
                "version": 3
            },
            "file_extension": ".py",
            "mimetype": "text/x-python",
            "name": "python",
            "nbconvert_exporter": "python",
            "pygments_lexer": "ipython3",
            "version": "3.11.4"
        },
        "orig_nbformat": 4
    },
    "nbformat": 4,
    "nbformat_minor": 2
}
